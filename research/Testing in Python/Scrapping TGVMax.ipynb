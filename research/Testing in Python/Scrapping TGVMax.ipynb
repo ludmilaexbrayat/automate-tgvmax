{
 "cells": [
  {
   "cell_type": "markdown",
   "metadata": {},
   "source": [
    "# Proof of concept\n",
    "\n",
    "<br>\n",
    "\n",
    "**Objective**: managing to fill the form and getting the results for the trains.\n",
    "\n",
    "<br>\n",
    "\n",
    "**Pre-requisites**:\n",
    "- pip install webdriver-manager"
   ]
  },
  {
   "cell_type": "code",
   "execution_count": 9,
   "metadata": {},
   "outputs": [],
   "source": [
    "url = \"https://www.oui.sncf/\"\n",
    "\n",
    "information = {\n",
    "    'depart': 'Montpellier',\n",
    "    'arrivee': 'Paris',\n",
    "    'numero_carte': '200458988',\n",
    "    'jour_naissance': '25',\n",
    "    'mois_naissance': '10',\n",
    "    'annee_naissance': '1997',\n",
    "    'specific_age': '22',\n",
    "    'day': '28',\n",
    "    'month': '10',\n",
    "    'year': '2019',\n",
    "    'hour': '7'\n",
    "}\n",
    "\n",
    "location = {\n",
    "    'depart': \"vsb-origin-train-launch\",\n",
    "    'arrivee': \"vsb-destination-train-launch\",\n",
    "    'depart_first_result': \"vsb-origin-0\",\n",
    "    'arrivee_first_result': \"vsb-destination-0\",\n",
    "    'close_policy': 'cookie-policy-close',\n",
    "    'close_bot': 'js__ouibot-ancrage__close',\n",
    "    'carte_reduction': \"passenger_1_train-launch-discount-card-type\",\n",
    "    'numero_carte': \"passenger_1_train-launch-discount-card-number\",\n",
    "    'date_naissance': \"passenger_1_train-launch-discount-card-dateofbirth\",\n",
    "    'jour_naissance': '//*[@id=\"passenger_1_train-launch-discount-card-dateofbirth\"]/div[1]/input[1]',\n",
    "    'mois_naissance': '//*[@id=\"passenger_1_train-launch-discount-card-dateofbirth\"]/div[1]/input[2]',\n",
    "    'annee_naissance': '//*[@id=\"passenger_1_train-launch-discount-card-dateofbirth\"]/div[1]/input[3]',\n",
    "    'rechercher_button': \"vsb-booking-train-launch-submit\",\n",
    "    'tranche_age': 'passenger_1_train-launch-typology',\n",
    "    'specific_age': 'passenger_1_train-launch_age',\n",
    "    'open_calendar': '//*[@id=\"vsb-departure-train-launch-date-time\"]/div[1]/div/div[1]',\n",
    "    'date': 'train-launch-d-'+information['day']+'-'+information['month']+'-'+information['year'],\n",
    "    'hour': 'vsb-departure-train-launch-modal-start-time',\n",
    "    'close_calendar': \"vsb-departure-train-launch-modal-submit\",\n",
    "    'prices': \"//button[@class='price-button price-button-best-price' or @class='price-button']\",\n",
    "    'je_choisis_cet_aller': \"//button[@class='oui-button___3560 travel-card__submit']\",\n",
    "    'je_valide_cet_aller': \"//button[@class='oui-button___3560 oui-button__placement']\",\n",
    "    'afficher_les_trajets_suivants': '//span[contains(text(), \"Afficher les trajets suivants\")]',\n",
    "    'continuer_1': \"//button[@class='oui-button___3635 oui-button--medium___3635']\",\n",
    "    'continuer_2': '//*[@id=\"cart-container\"]/div/div[1]/div[1]/div[2]/span[2]/button',\n",
    "    'genre': '//*[@id=\"contact-container\"]/div/section/div[3]/form/div[1]/div[1]/div/section/div[3]/div[1]/div/div[1]/label[1]',\n",
    "    'check_box': '//*[@id=\"contact-container\"]/div/section/div[3]/form/div[2]/div[3]/div/div/label',\n",
    "    'valider_ma_commande': '//*[@id=\"contact-container\"]/div/section/div[3]/form/div[2]/div[5]/button'\n",
    "}\n"
   ]
  },
  {
   "cell_type": "code",
   "execution_count": 1,
   "metadata": {},
   "outputs": [
    {
     "name": "stdout",
     "output_type": "stream",
     "text": [
      "\n",
      "Checking for mac64 chromedriver:77.0.3865.40 in cache\n",
      "Driver found in /Users/ludmilaexbrayat/.wdm/chromedriver/77.0.3865.40/mac64/chromedriver\n"
     ]
    }
   ],
   "source": [
    "from selenium import webdriver\n",
    "from webdriver_manager.chrome import ChromeDriverManager\n",
    "from selenium.webdriver.common.by import By\n",
    "from selenium.webdriver.support.ui import WebDriverWait, Select\n",
    "from selenium.webdriver.support import expected_conditions\n",
    "import re\n",
    "from time import sleep\n",
    "\n",
    "url = \"https://www.oui.sncf/\"\n",
    "\n",
    "# Starting a webdriver\n",
    "driver = webdriver.Chrome(ChromeDriverManager().install())\n",
    "\n",
    "# Opening Chrome\n",
    "driver.get(url)"
   ]
  },
  {
   "cell_type": "code",
   "execution_count": null,
   "metadata": {},
   "outputs": [],
   "source": [
    "driver."
   ]
  },
  {
   "cell_type": "code",
   "execution_count": 10,
   "metadata": {},
   "outputs": [
    {
     "name": "stdout",
     "output_type": "stream",
     "text": [
      "\n",
      "Checking for mac64 chromedriver:77.0.3865.40 in cache\n",
      "Driver found in /Users/ludmilaexbrayat/.wdm/chromedriver/77.0.3865.40/mac64/chromedriver\n",
      "Page is loaded\n",
      "Checking if a TGVMax is available\n",
      "Expanding the list\n",
      "Checking if a TGVMax is available\n",
      "Found a train!\n",
      "Clicking the train\n"
     ]
    },
    {
     "ename": "StaleElementReferenceException",
     "evalue": "Message: stale element reference: element is not attached to the page document\n  (Session info: chrome=77.0.3865.90)\n",
     "output_type": "error",
     "traceback": [
      "\u001b[0;31m---------------------------------------------------------------------------\u001b[0m",
      "\u001b[0;31mStaleElementReferenceException\u001b[0m            Traceback (most recent call last)",
      "\u001b[0;32m<ipython-input-10-a165e29d089b>\u001b[0m in \u001b[0;36m<module>\u001b[0;34m\u001b[0m\n\u001b[1;32m     73\u001b[0m                 \u001b[0msleep\u001b[0m\u001b[0;34m(\u001b[0m\u001b[0;36m5\u001b[0m\u001b[0;34m)\u001b[0m\u001b[0;34m\u001b[0m\u001b[0;34m\u001b[0m\u001b[0m\n\u001b[1;32m     74\u001b[0m                 \u001b[0mprint\u001b[0m\u001b[0;34m(\u001b[0m\u001b[0;34m'Clicking the train'\u001b[0m\u001b[0;34m)\u001b[0m\u001b[0;34m\u001b[0m\u001b[0;34m\u001b[0m\u001b[0m\n\u001b[0;32m---> 75\u001b[0;31m                 \u001b[0mspan\u001b[0m\u001b[0;34m.\u001b[0m\u001b[0mclick\u001b[0m\u001b[0;34m(\u001b[0m\u001b[0;34m)\u001b[0m\u001b[0;34m\u001b[0m\u001b[0;34m\u001b[0m\u001b[0m\n\u001b[0m\u001b[1;32m     76\u001b[0m                 \u001b[0;32mbreak\u001b[0m\u001b[0;34m\u001b[0m\u001b[0;34m\u001b[0m\u001b[0m\n\u001b[1;32m     77\u001b[0m \u001b[0;34m\u001b[0m\u001b[0m\n",
      "\u001b[0;32m~/anaconda3/lib/python3.7/site-packages/selenium/webdriver/remote/webelement.py\u001b[0m in \u001b[0;36mclick\u001b[0;34m(self)\u001b[0m\n\u001b[1;32m     78\u001b[0m     \u001b[0;32mdef\u001b[0m \u001b[0mclick\u001b[0m\u001b[0;34m(\u001b[0m\u001b[0mself\u001b[0m\u001b[0;34m)\u001b[0m\u001b[0;34m:\u001b[0m\u001b[0;34m\u001b[0m\u001b[0;34m\u001b[0m\u001b[0m\n\u001b[1;32m     79\u001b[0m         \u001b[0;34m\"\"\"Clicks the element.\"\"\"\u001b[0m\u001b[0;34m\u001b[0m\u001b[0;34m\u001b[0m\u001b[0m\n\u001b[0;32m---> 80\u001b[0;31m         \u001b[0mself\u001b[0m\u001b[0;34m.\u001b[0m\u001b[0m_execute\u001b[0m\u001b[0;34m(\u001b[0m\u001b[0mCommand\u001b[0m\u001b[0;34m.\u001b[0m\u001b[0mCLICK_ELEMENT\u001b[0m\u001b[0;34m)\u001b[0m\u001b[0;34m\u001b[0m\u001b[0;34m\u001b[0m\u001b[0m\n\u001b[0m\u001b[1;32m     81\u001b[0m \u001b[0;34m\u001b[0m\u001b[0m\n\u001b[1;32m     82\u001b[0m     \u001b[0;32mdef\u001b[0m \u001b[0msubmit\u001b[0m\u001b[0;34m(\u001b[0m\u001b[0mself\u001b[0m\u001b[0;34m)\u001b[0m\u001b[0;34m:\u001b[0m\u001b[0;34m\u001b[0m\u001b[0;34m\u001b[0m\u001b[0m\n",
      "\u001b[0;32m~/anaconda3/lib/python3.7/site-packages/selenium/webdriver/remote/webelement.py\u001b[0m in \u001b[0;36m_execute\u001b[0;34m(self, command, params)\u001b[0m\n\u001b[1;32m    631\u001b[0m             \u001b[0mparams\u001b[0m \u001b[0;34m=\u001b[0m \u001b[0;34m{\u001b[0m\u001b[0;34m}\u001b[0m\u001b[0;34m\u001b[0m\u001b[0;34m\u001b[0m\u001b[0m\n\u001b[1;32m    632\u001b[0m         \u001b[0mparams\u001b[0m\u001b[0;34m[\u001b[0m\u001b[0;34m'id'\u001b[0m\u001b[0;34m]\u001b[0m \u001b[0;34m=\u001b[0m \u001b[0mself\u001b[0m\u001b[0;34m.\u001b[0m\u001b[0m_id\u001b[0m\u001b[0;34m\u001b[0m\u001b[0;34m\u001b[0m\u001b[0m\n\u001b[0;32m--> 633\u001b[0;31m         \u001b[0;32mreturn\u001b[0m \u001b[0mself\u001b[0m\u001b[0;34m.\u001b[0m\u001b[0m_parent\u001b[0m\u001b[0;34m.\u001b[0m\u001b[0mexecute\u001b[0m\u001b[0;34m(\u001b[0m\u001b[0mcommand\u001b[0m\u001b[0;34m,\u001b[0m \u001b[0mparams\u001b[0m\u001b[0;34m)\u001b[0m\u001b[0;34m\u001b[0m\u001b[0;34m\u001b[0m\u001b[0m\n\u001b[0m\u001b[1;32m    634\u001b[0m \u001b[0;34m\u001b[0m\u001b[0m\n\u001b[1;32m    635\u001b[0m     \u001b[0;32mdef\u001b[0m \u001b[0mfind_element\u001b[0m\u001b[0;34m(\u001b[0m\u001b[0mself\u001b[0m\u001b[0;34m,\u001b[0m \u001b[0mby\u001b[0m\u001b[0;34m=\u001b[0m\u001b[0mBy\u001b[0m\u001b[0;34m.\u001b[0m\u001b[0mID\u001b[0m\u001b[0;34m,\u001b[0m \u001b[0mvalue\u001b[0m\u001b[0;34m=\u001b[0m\u001b[0;32mNone\u001b[0m\u001b[0;34m)\u001b[0m\u001b[0;34m:\u001b[0m\u001b[0;34m\u001b[0m\u001b[0;34m\u001b[0m\u001b[0m\n",
      "\u001b[0;32m~/anaconda3/lib/python3.7/site-packages/selenium/webdriver/remote/webdriver.py\u001b[0m in \u001b[0;36mexecute\u001b[0;34m(self, driver_command, params)\u001b[0m\n\u001b[1;32m    319\u001b[0m         \u001b[0mresponse\u001b[0m \u001b[0;34m=\u001b[0m \u001b[0mself\u001b[0m\u001b[0;34m.\u001b[0m\u001b[0mcommand_executor\u001b[0m\u001b[0;34m.\u001b[0m\u001b[0mexecute\u001b[0m\u001b[0;34m(\u001b[0m\u001b[0mdriver_command\u001b[0m\u001b[0;34m,\u001b[0m \u001b[0mparams\u001b[0m\u001b[0;34m)\u001b[0m\u001b[0;34m\u001b[0m\u001b[0;34m\u001b[0m\u001b[0m\n\u001b[1;32m    320\u001b[0m         \u001b[0;32mif\u001b[0m \u001b[0mresponse\u001b[0m\u001b[0;34m:\u001b[0m\u001b[0;34m\u001b[0m\u001b[0;34m\u001b[0m\u001b[0m\n\u001b[0;32m--> 321\u001b[0;31m             \u001b[0mself\u001b[0m\u001b[0;34m.\u001b[0m\u001b[0merror_handler\u001b[0m\u001b[0;34m.\u001b[0m\u001b[0mcheck_response\u001b[0m\u001b[0;34m(\u001b[0m\u001b[0mresponse\u001b[0m\u001b[0;34m)\u001b[0m\u001b[0;34m\u001b[0m\u001b[0;34m\u001b[0m\u001b[0m\n\u001b[0m\u001b[1;32m    322\u001b[0m             response['value'] = self._unwrap_value(\n\u001b[1;32m    323\u001b[0m                 response.get('value', None))\n",
      "\u001b[0;32m~/anaconda3/lib/python3.7/site-packages/selenium/webdriver/remote/errorhandler.py\u001b[0m in \u001b[0;36mcheck_response\u001b[0;34m(self, response)\u001b[0m\n\u001b[1;32m    240\u001b[0m                 \u001b[0malert_text\u001b[0m \u001b[0;34m=\u001b[0m \u001b[0mvalue\u001b[0m\u001b[0;34m[\u001b[0m\u001b[0;34m'alert'\u001b[0m\u001b[0;34m]\u001b[0m\u001b[0;34m.\u001b[0m\u001b[0mget\u001b[0m\u001b[0;34m(\u001b[0m\u001b[0;34m'text'\u001b[0m\u001b[0;34m)\u001b[0m\u001b[0;34m\u001b[0m\u001b[0;34m\u001b[0m\u001b[0m\n\u001b[1;32m    241\u001b[0m             \u001b[0;32mraise\u001b[0m \u001b[0mexception_class\u001b[0m\u001b[0;34m(\u001b[0m\u001b[0mmessage\u001b[0m\u001b[0;34m,\u001b[0m \u001b[0mscreen\u001b[0m\u001b[0;34m,\u001b[0m \u001b[0mstacktrace\u001b[0m\u001b[0;34m,\u001b[0m \u001b[0malert_text\u001b[0m\u001b[0;34m)\u001b[0m\u001b[0;34m\u001b[0m\u001b[0;34m\u001b[0m\u001b[0m\n\u001b[0;32m--> 242\u001b[0;31m         \u001b[0;32mraise\u001b[0m \u001b[0mexception_class\u001b[0m\u001b[0;34m(\u001b[0m\u001b[0mmessage\u001b[0m\u001b[0;34m,\u001b[0m \u001b[0mscreen\u001b[0m\u001b[0;34m,\u001b[0m \u001b[0mstacktrace\u001b[0m\u001b[0;34m)\u001b[0m\u001b[0;34m\u001b[0m\u001b[0;34m\u001b[0m\u001b[0m\n\u001b[0m\u001b[1;32m    243\u001b[0m \u001b[0;34m\u001b[0m\u001b[0m\n\u001b[1;32m    244\u001b[0m     \u001b[0;32mdef\u001b[0m \u001b[0m_value_or_default\u001b[0m\u001b[0;34m(\u001b[0m\u001b[0mself\u001b[0m\u001b[0;34m,\u001b[0m \u001b[0mobj\u001b[0m\u001b[0;34m,\u001b[0m \u001b[0mkey\u001b[0m\u001b[0;34m,\u001b[0m \u001b[0mdefault\u001b[0m\u001b[0;34m)\u001b[0m\u001b[0;34m:\u001b[0m\u001b[0;34m\u001b[0m\u001b[0;34m\u001b[0m\u001b[0m\n",
      "\u001b[0;31mStaleElementReferenceException\u001b[0m: Message: stale element reference: element is not attached to the page document\n  (Session info: chrome=77.0.3865.90)\n"
     ]
    }
   ],
   "source": [
    "from selenium import webdriver\n",
    "from webdriver_manager.chrome import ChromeDriverManager\n",
    "from selenium.webdriver.common.by import By\n",
    "from selenium.webdriver.support.ui import WebDriverWait, Select\n",
    "from selenium.webdriver.support import expected_conditions\n",
    "import re\n",
    "from time import sleep\n",
    "\n",
    "# Starting a webdriver\n",
    "driver = webdriver.Chrome(ChromeDriverManager().install())\n",
    "\n",
    "# Opening Chrome\n",
    "driver.get(url)\n",
    "\n",
    "# Closing pop ups\n",
    "driver.find_element_by_id(location['close_policy']).click()\n",
    "driver.find_element_by_id(location['close_bot']).click()\n",
    "\n",
    "# Filling the information for the depart\n",
    "driver.find_element_by_id(location['depart']).send_keys(information['depart'])\n",
    "WebDriverWait(driver, 30).until(expected_conditions.element_to_be_clickable((By.ID, location['depart_first_result']))).click()\n",
    "\n",
    "# Filling the information for the arrivee\n",
    "#driver.implicitly_wait(10)\n",
    "driver.find_element_by_id(location['arrivee']).send_keys(information['arrivee'])\n",
    "WebDriverWait(driver, 30).until(expected_conditions.element_to_be_clickable((By.ID, location['arrivee_first_result']))).click()\n",
    "\n",
    "# Filling the information for the date\n",
    "driver.find_element_by_xpath(location['open_calendar']).click()\n",
    "driver.find_element_by_id(location['date']).click()\n",
    "driver.implicitly_wait(10)\n",
    "Select(driver.find_element_by_id(location['hour'])).select_by_value(information['hour'])\n",
    "driver.find_element_by_id(location['close_calendar']).click()\n",
    "\n",
    "# Selecting age range\n",
    "driver.implicitly_wait(10)\n",
    "Select(driver.find_element_by_id(location['tranche_age'])).select_by_value('typology-YOUNG')\n",
    "driver.find_element_by_id(location['specific_age']).send_keys(information['specific_age'])\n",
    "\n",
    "# Selecting TGVMax option\n",
    "Select(driver.find_element_by_id(location['carte_reduction'])).select_by_value('HAPPY_CARD')\n",
    "\n",
    "# Filling information on TGVMax\n",
    "#driver.implicitly_wait(10)\n",
    "WebDriverWait(driver, 30).until(expected_conditions.presence_of_element_located((By.ID, location['numero_carte']))).send_keys(information['numero_carte'])\n",
    "driver.find_element_by_id(location['date_naissance']).click()\n",
    "driver.find_element_by_xpath(location['jour_naissance']).send_keys(information['jour_naissance'])\n",
    "driver.find_element_by_xpath(location['mois_naissance']).send_keys(information['mois_naissance'])\n",
    "driver.find_element_by_xpath(location['annee_naissance']).send_keys(information['annee_naissance'])\n",
    "\n",
    "# Launching the search\n",
    "driver.implicitly_wait(10)\n",
    "driver.find_element_by_id(location['rechercher_button']).click()\n",
    "\n",
    "found_train = False\n",
    "continue_search = True\n",
    "\n",
    "# Scrapping the results\n",
    "myElem = WebDriverWait(driver, 10).until(expected_conditions.presence_of_element_located((By.XPATH, location['prices'])))\n",
    "print(\"Page is loaded\")\n",
    "sleep(15)\n",
    "\n",
    "while continue_search:\n",
    "    print('Checking if a TGVMax is available')\n",
    "    # Check if there is a TGVMax available\n",
    "    all_spans = driver.find_elements_by_xpath(location['prices'])\n",
    "    for index, span in enumerate(all_spans):\n",
    "        if span.text.find('€') != -1:\n",
    "            price = re.findall('\\d+', span.text[:span.text.find('€')])[0]\n",
    "            if price == '0':\n",
    "                print('Found a train!')\n",
    "                found_train = True\n",
    "                sleep(5)\n",
    "                print('Clicking the train')\n",
    "                span.click()\n",
    "                break\n",
    "\n",
    "    if found_train:\n",
    "        # If a train was found, click it\n",
    "        print('Clicking Je choisis cet aller')\n",
    "        WebDriverWait(driver, 10).until(expected_conditions.element_to_be_clickable((By.XPATH, location['je_choisis_cet_aller']))).click()\n",
    "        sleep(5)\n",
    "        print('Clicking Je valide cet aller')\n",
    "        WebDriverWait(driver, 10).until(expected_conditions.element_to_be_clickable((By.XPATH, location['je_valide_cet_aller']))).click()\n",
    "        continue_search = False\n",
    "    else:\n",
    "        # If no train was found, expand the list of trains available\n",
    "        try:\n",
    "            WebDriverWait(driver, 30).until(expected_conditions.presence_of_element_located((By.XPATH, location['afficher_les_trajets_suivants']))).click()\n",
    "            print('Expanding the list')\n",
    "        except:\n",
    "            continue_search = False\n",
    "            print('No TGVMax available for this day')"
   ]
  },
  {
   "cell_type": "code",
   "execution_count": null,
   "metadata": {},
   "outputs": [],
   "source": [
    "driver.find_element_by_xpath(location['continuer_1']).click()"
   ]
  },
  {
   "cell_type": "code",
   "execution_count": null,
   "metadata": {},
   "outputs": [],
   "source": [
    "driver.find_element_by_xpath(location['continuer_2']).click()"
   ]
  },
  {
   "cell_type": "code",
   "execution_count": null,
   "metadata": {},
   "outputs": [],
   "source": [
    "driver.find_element_by_xpath(location['genre']).click()"
   ]
  },
  {
   "cell_type": "code",
   "execution_count": null,
   "metadata": {},
   "outputs": [],
   "source": [
    "driver.find_element_by_xpath(location['check_box']).click()"
   ]
  },
  {
   "cell_type": "code",
   "execution_count": null,
   "metadata": {},
   "outputs": [],
   "source": [
    "driver.find_element_by_xpath(location['valider_ma_commande']).click()"
   ]
  },
  {
   "cell_type": "markdown",
   "metadata": {},
   "source": [
    "## Graveyard"
   ]
  },
  {
   "cell_type": "code",
   "execution_count": null,
   "metadata": {},
   "outputs": [],
   "source": [
    "from selenium import webdriver\n",
    "from webdriver_manager.chrome import ChromeDriverManager"
   ]
  },
  {
   "cell_type": "code",
   "execution_count": null,
   "metadata": {},
   "outputs": [],
   "source": [
    "#from selenium.webdriver.support.select import Select\n",
    "#depart = Select(driver.find_element_by_id('vsb-origin14'))\n",
    "#depart.select_by_index(1)\n",
    "# driver.find_element_by_xpath(xpath['arrivee']).send_keys(information['arrivee'])"
   ]
  },
  {
   "cell_type": "code",
   "execution_count": null,
   "metadata": {
    "scrolled": true
   },
   "outputs": [],
   "source": [
    "url = \"https://happycard.force.com/SiteLogin?startURL=%2Fsetup%2Fsecur%2FRemoteAccessAuthorizationPage.apexp%3Fsource%3DCAAAAW0_sQm0ME8wMXYwMDAwMDA4T0k1AAAA3EM2gOWs2v3e5ccdD63GJBzJePMP0mdGBrvz_xfc9q9E0GVzeDF5kU6SYEwZ6Wmsa8bpo0dPC1r_qdIsk8-1hbam9NcDgEpEOHxrjvSOzbkLuzBOKLSW0J29X2DwzI3Wa5rjHUolHr94UjS1t6fzGG4R1xncHDJEYCuMeU8gMyszqpfnlQR_-liVadYYQA29uCFvSCpChuawdNwYzdVzISozX6zuviF-wmnwBGB0965fmLymvSI3eZwZ_8D8sxr7zFXLa1mf5RDUjS6kjsthiVIjNR3sdbF915LhYXPWm0-bqfUix_eKPLlOiLAuT-UE9vMEw_VhLrxjAqP87rHJ1gp5l2f1b8q3f1_xvhncyR_sq6TwkD6Ykccv44EAEs40zLbiZYJkhcfgU31YclyUwRg9p4VP-c3_q_DqlxIjc0C_gPog6_SAlszsKGJ7zrUgoHHW41Fzcj6xxJ4yPPP4lhhKImfvz_Ro6DOpXK5nA0kiwxSLZpmSkFkkmNURqF3vfDdxos4Ep_arIFvOrPkH04hSJkmtj9hbTN_kZWgkGBJl74cm9v38TA_r8AFpBQqrkaPGIJBSUTEDMTF769h7jniCTAaObcvEOWsf8iyH5lCmxSUh8mALb16pvO7V2nYJ0hDW5wEarjiLyahH1mb4LeQ%253D\"\n",
    "\n",
    "xpath = {\n",
    "    'login': '//*[@id=\"loginPage:SiteTemplate:formulaire:login-field\"]',\n",
    "    'pwd': '//*[@id=\"loginPage:SiteTemplate:formulaire:password-field\"]',\n",
    "    'loginbutton': '//*[@id=\"loginPage:SiteTemplate:formulaire\"]/div[1]/input'\n",
    "}\n",
    "\n",
    "creds = {\n",
    "    'login': 'ludmilaex@gmail.com',\n",
    "    'pwd': 'HongKong//0'\n",
    "}\n"
   ]
  },
  {
   "cell_type": "code",
   "execution_count": null,
   "metadata": {},
   "outputs": [],
   "source": [
    "# Starting a webdriver\n",
    "driver = webdriver.Chrome(ChromeDriverManager().install())"
   ]
  },
  {
   "cell_type": "code",
   "execution_count": null,
   "metadata": {},
   "outputs": [],
   "source": [
    "# Opening Chrome\n",
    "driver.get(url)\n",
    "\n",
    "# Filling the credentials\n",
    "driver.find_element_by_xpath(xpath['login']).send_keys(creds['login'])\n",
    "driver.find_element_by_xpath(xpath['pwd']).send_keys(creds['pwd'])\n",
    "driver.find_element_by_xpath(xpath['loginbutton']).click()"
   ]
  },
  {
   "cell_type": "markdown",
   "metadata": {},
   "source": [
    "Trying to log in, but fails because of oauth error -> let's try from the regular page."
   ]
  }
 ],
 "metadata": {
  "kernelspec": {
   "display_name": "Python 3",
   "language": "python",
   "name": "python3"
  },
  "language_info": {
   "codemirror_mode": {
    "name": "ipython",
    "version": 3
   },
   "file_extension": ".py",
   "mimetype": "text/x-python",
   "name": "python",
   "nbconvert_exporter": "python",
   "pygments_lexer": "ipython3",
   "version": "3.7.1"
  }
 },
 "nbformat": 4,
 "nbformat_minor": 2
}
